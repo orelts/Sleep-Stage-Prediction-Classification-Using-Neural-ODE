{
 "cells": [
  {
   "cell_type": "code",
   "execution_count": 26,
   "metadata": {},
   "outputs": [],
   "source": [
    "import joblib\n",
    "import optuna\n",
    "import os,sys,inspect\n",
    "import numpy as np\n",
    "import pandas as pd\n",
    "import matplotlib.pyplot as plt\n",
    "from mne.datasets.sleep_physionet.age import fetch_data\n",
    "import mne\n",
    "import pandas as pd\n",
    "from scipy import signal\n",
    "from scipy.fftpack import fft\n",
    "\n",
    "currentdir = os.path.dirname(os.path.abspath(inspect.getfile(inspect.currentframe())))\n",
    "parentdir = os.path.dirname(currentdir)\n",
    "sys.path.insert(0,parentdir) \n",
    "\n",
    "from src.features.build_features import break_2_bands, channels_fft"
   ]
  },
  {
   "cell_type": "code",
   "execution_count": 5,
   "metadata": {},
   "outputs": [
    {
     "name": "stdout",
     "output_type": "stream",
     "text": [
      "Using default location ~/mne_data for PHYSIONET_SLEEP...\n"
     ]
    }
   ],
   "source": [
    "files = fetch_data(subjects=[0], recording=[1])"
   ]
  },
  {
   "cell_type": "code",
   "execution_count": 6,
   "metadata": {},
   "outputs": [],
   "source": [
    "psg = files[0][0]\n",
    "anno = files[0][1]"
   ]
  },
  {
   "cell_type": "code",
   "execution_count": 27,
   "metadata": {},
   "outputs": [
    {
     "name": "stdout",
     "output_type": "stream",
     "text": [
      "Extracting EDF parameters from /home/orel.ts@staff.technion.ac.il/mne_data/physionet-sleep-data/SC4001E0-PSG.edf...\n",
      "EDF file detected\n",
      "Setting channel info structure...\n",
      "Creating raw.info structure...\n",
      "Reading 0 ... 7949999  =      0.000 ... 79499.990 secs...\n"
     ]
    },
    {
     "data": {
      "text/html": [
       "<div>\n",
       "<style scoped>\n",
       "    .dataframe tbody tr th:only-of-type {\n",
       "        vertical-align: middle;\n",
       "    }\n",
       "\n",
       "    .dataframe tbody tr th {\n",
       "        vertical-align: top;\n",
       "    }\n",
       "\n",
       "    .dataframe thead th {\n",
       "        text-align: right;\n",
       "    }\n",
       "</style>\n",
       "<table border=\"1\" class=\"dataframe\">\n",
       "  <thead>\n",
       "    <tr style=\"text-align: right;\">\n",
       "      <th></th>\n",
       "      <th>EEG Fpz-Cz_fft</th>\n",
       "      <th>EEG Pz-Oz_fft</th>\n",
       "    </tr>\n",
       "  </thead>\n",
       "  <tbody>\n",
       "    <tr>\n",
       "      <th>0</th>\n",
       "      <td>131.576720</td>\n",
       "      <td>278.928752</td>\n",
       "    </tr>\n",
       "    <tr>\n",
       "      <th>1</th>\n",
       "      <td>1.139181</td>\n",
       "      <td>1.322771</td>\n",
       "    </tr>\n",
       "    <tr>\n",
       "      <th>2</th>\n",
       "      <td>0.938774</td>\n",
       "      <td>0.834076</td>\n",
       "    </tr>\n",
       "    <tr>\n",
       "      <th>3</th>\n",
       "      <td>0.596252</td>\n",
       "      <td>0.426689</td>\n",
       "    </tr>\n",
       "    <tr>\n",
       "      <th>4</th>\n",
       "      <td>0.163376</td>\n",
       "      <td>2.080166</td>\n",
       "    </tr>\n",
       "    <tr>\n",
       "      <th>...</th>\n",
       "      <td>...</td>\n",
       "      <td>...</td>\n",
       "    </tr>\n",
       "    <tr>\n",
       "      <th>7949995</th>\n",
       "      <td>1.078992</td>\n",
       "      <td>1.178490</td>\n",
       "    </tr>\n",
       "    <tr>\n",
       "      <th>7949996</th>\n",
       "      <td>0.163376</td>\n",
       "      <td>2.080166</td>\n",
       "    </tr>\n",
       "    <tr>\n",
       "      <th>7949997</th>\n",
       "      <td>0.596252</td>\n",
       "      <td>0.426689</td>\n",
       "    </tr>\n",
       "    <tr>\n",
       "      <th>7949998</th>\n",
       "      <td>0.938774</td>\n",
       "      <td>0.834076</td>\n",
       "    </tr>\n",
       "    <tr>\n",
       "      <th>7949999</th>\n",
       "      <td>1.139181</td>\n",
       "      <td>1.322771</td>\n",
       "    </tr>\n",
       "  </tbody>\n",
       "</table>\n",
       "<p>7950000 rows × 2 columns</p>\n",
       "</div>"
      ],
      "text/plain": [
       "         EEG Fpz-Cz_fft  EEG Pz-Oz_fft\n",
       "0            131.576720     278.928752\n",
       "1              1.139181       1.322771\n",
       "2              0.938774       0.834076\n",
       "3              0.596252       0.426689\n",
       "4              0.163376       2.080166\n",
       "...                 ...            ...\n",
       "7949995        1.078992       1.178490\n",
       "7949996        0.163376       2.080166\n",
       "7949997        0.596252       0.426689\n",
       "7949998        0.938774       0.834076\n",
       "7949999        1.139181       1.322771\n",
       "\n",
       "[7950000 rows x 2 columns]"
      ]
     },
     "execution_count": 27,
     "metadata": {},
     "output_type": "execute_result"
    }
   ],
   "source": [
    "raw = mne.io.read_raw_edf(psg, preload=True, stim_channel=None)\n",
    "\n",
    "sampling_rate = raw.info['sfreq']\n",
    "\n",
    "df = raw.to_data_frame(scalings=100.0)[['EEG Fpz-Cz', 'EEG Pz-Oz']]\n",
    "# Preprocessing\n",
    "\n",
    "df1 = break_2_bands(df)\n",
    "\n",
    "df2 = channels_fft(df)\n",
    "\n",
    "df1.set_index(np.arange(len(df1)))\n",
    "df2.set_index(np.arange(len(df2)))"
   ]
  },
  {
   "cell_type": "code",
   "execution_count": 28,
   "metadata": {},
   "outputs": [],
   "source": [
    "#########################\n",
    "#   PLOT FFT of 5 bands \n",
    "#########################\n",
    "Fs = 100\n",
    "T = 1/Fs\n",
    "N = len(df1)\n",
    "xf = np.linspace(0.0, 1.0/(2.0*T), N//2)\n",
    "\n",
    "bands_str = [\"delta\", \"theta\", \"alpha\", \"sigma\", \"beta\"]\n",
    "fig = plt.figure()\n",
    "for band in range(len(df1.columns)):\n",
    "    ax = fig.add_subplot(2, 5, band+1)\n",
    "    ffted = abs(fft(df1.iloc[:, band].values))\n",
    "    ax.set_title(df1.columns[band].split(\"_\")[0] + \"-\" + bands_str[band % 5])\n",
    "    ax.plot(xf, ffted[:N//2], 'C'+ str(band % 5))\n",
    "    \n",
    "plt.show()"
   ]
  },
  {
   "cell_type": "code",
   "execution_count": 32,
   "metadata": {},
   "outputs": [
    {
     "name": "stdout",
     "output_type": "stream",
     "text": [
      "Used Annotations descriptions: ['Sleep stage 1', 'Sleep stage 2', 'Sleep stage 3', 'Sleep stage 4', 'Sleep stage R', 'Sleep stage W']\n"
     ]
    }
   ],
   "source": [
    "#########################################\n",
    "#   PLOT sleeping events of MNE data \n",
    "#########################################\n",
    "annot_train = mne.read_annotations(anno)\n",
    "\n",
    "annotation_desc_2_event_id = {'Sleep stage W': 1,\n",
    "                              'Sleep stage 1': 2,\n",
    "                              'Sleep stage 2': 3,\n",
    "                              'Sleep stage 3': 4,\n",
    "                              'Sleep stage 4': 4,\n",
    "                              'Sleep stage R': 5}\n",
    "\n",
    "# keep last 30-min wake events before sleep and first 30-min wake events after\n",
    "# sleep and redefine annotations on raw data\n",
    "annot_train.crop(annot_train[1]['onset'] - 30 * 60,\n",
    "                 annot_train[-2]['onset'] + 30 * 60)\n",
    "raw.set_annotations(annot_train, emit_warning=False)\n",
    "\n",
    "events_train, _ = mne.events_from_annotations(\n",
    "    raw, event_id = annotation_desc_2_event_id, chunk_duration=30.)\n",
    "\n",
    "# create a new event_id that unifies stages 3 and 4\n",
    "event_id = {'Sleep stage W': 1,\n",
    "            'Sleep stage 1': 2,\n",
    "            'Sleep stage 2': 3,\n",
    "            'Sleep stage 3/4': 4,\n",
    "            'Sleep stage R': 5}\n",
    "\n",
    "# plot events\n",
    "fig = mne.viz.plot_events(events_train, event_id=event_id,\n",
    "                          sfreq=raw.info['sfreq'],\n",
    "                          first_samp=events_train[0, 0])\n",
    "\n",
    "# keep the color-code for further plotting\n",
    "stage_colors = plt.rcParams['axes.prop_cycle'].by_key()['color']"
   ]
  },
  {
   "cell_type": "code",
   "execution_count": null,
   "metadata": {},
   "outputs": [],
   "source": []
  },
  {
   "cell_type": "code",
   "execution_count": null,
   "metadata": {},
   "outputs": [],
   "source": [
    "# data = np.abs(data[\"x\"])\n",
    "# coms = []\n",
    "# for yf in data:\n",
    "#     Fs = 100\n",
    "#     T = 1/Fs\n",
    "#     N = yf.shape[0]\n",
    "#     xf = np.linspace(0.0, 1.0/(2.0*T), N//2)\n",
    "#     y = yf[:, 0]\n",
    "\n",
    "#     com = 0\n",
    "#     for index, _ in enumerate(xf):\n",
    "#         com += xf[index] * y[index]\n",
    "\n",
    "#     com /= sum(y)\n",
    "#     coms.append(com)\n",
    "    \n",
    "# fig, ax = plt.subplots()\n",
    "# ax.plot(coms)\n",
    "# plt.show()"
   ]
  },
  {
   "cell_type": "code",
   "execution_count": null,
   "metadata": {},
   "outputs": [],
   "source": [
    "# fig, ax = plt.subplots()\n",
    "# ax.plot(xf, np.abs(y[:N//2]))\n",
    "# plt.show()"
   ]
  },
  {
   "cell_type": "code",
   "execution_count": null,
   "metadata": {},
   "outputs": [],
   "source": [
    "# study = joblib.load('SC4001E0.pkl')\n",
    "# df = study.trials_dataframe().drop(['state', 'datetime_start', 'datetime_complete'], axis=1)\n",
    "# print(optuna.visualization.is_available())"
   ]
  },
  {
   "cell_type": "code",
   "execution_count": null,
   "metadata": {},
   "outputs": [],
   "source": [
    "# fig = optuna.visualization.plot_optimization_history(study)\n",
    "# fig.show()"
   ]
  }
 ],
 "metadata": {
  "kernelspec": {
   "display_name": "Python 3",
   "language": "python",
   "name": "python3"
  },
  "language_info": {
   "codemirror_mode": {
    "name": "ipython",
    "version": 3
   },
   "file_extension": ".py",
   "mimetype": "text/x-python",
   "name": "python",
   "nbconvert_exporter": "python",
   "pygments_lexer": "ipython3",
   "version": "3.8.5"
  }
 },
 "nbformat": 4,
 "nbformat_minor": 4
}
